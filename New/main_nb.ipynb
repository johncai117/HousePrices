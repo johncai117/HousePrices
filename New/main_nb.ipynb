{
 "metadata": {
  "language_info": {
   "codemirror_mode": {
    "name": "ipython",
    "version": 3
   },
   "file_extension": ".py",
   "mimetype": "text/x-python",
   "name": "python",
   "nbconvert_exporter": "python",
   "pygments_lexer": "ipython3",
   "version": "3.6.9-final"
  },
  "orig_nbformat": 2,
  "kernelspec": {
   "name": "python3",
   "display_name": "Python 3.6.9 64-bit ('env')",
   "metadata": {
    "interpreter": {
     "hash": "1bc38c910a2ac97386b6bf799a99b19782d7443e84f16a63e9afccf77f0414b4"
    }
   }
  }
 },
 "nbformat": 4,
 "nbformat_minor": 2,
 "cells": [
  {
   "source": [
    "# MAIN NOTEBOOK"
   ],
   "cell_type": "markdown",
   "metadata": {}
  },
  {
   "cell_type": "code",
   "execution_count": 1,
   "metadata": {},
   "outputs": [],
   "source": [
    "import pandas as pd\n",
    "import numpy as np\n",
    "import sklearn\n",
    "from sklearn.impute import KNNImputer\n",
    "from sklearn import preprocessing\n",
    "from sklearn.model_selection import cross_val_score\n",
    "from sklearn.metrics import r2_score\n",
    "import xgboost as xgb\n",
    "from sklearn.decomposition import PCA\n",
    "from xgboost import plot_tree\n",
    "import matplotlib.pyplot as plt\n",
    "#plt.rcParams[\"figure.figsize\"] = (20,20)"
   ]
  },
  {
   "cell_type": "code",
   "execution_count": 9,
   "metadata": {},
   "outputs": [
    {
     "output_type": "stream",
     "name": "stdout",
     "text": [
      "   id  bonus        date  color date_format\n0   1   0.39  07/31/2020  green    %m/%d/%Y\n1   2   0.28  11/04/2020    red    %m/%d/%Y\n2   3   0.27  2020-05-12    red    %Y-%m-%d\n3   4   0.28  09/17/2020    red    %m/%d/%Y\n4   5   0.35  2020-12-15  green    %Y-%m-%d\n"
     ]
    }
   ],
   "source": [
    "predictors = pd.read_csv(filepath_or_buffer = \"predictors.csv\")\n",
    "print(predictors.head())\n"
   ]
  },
  {
   "cell_type": "code",
   "execution_count": 10,
   "metadata": {},
   "outputs": [
    {
     "output_type": "stream",
     "name": "stdout",
     "text": [
      "    id  outcome\n0  122        1\n1  138        0\n2  330        1\n3   97        1\n4  322        1\n"
     ]
    }
   ],
   "source": [
    "results = pd.read_csv(\"results.tsv\",sep='\\t')\n",
    "print(results.head())\n"
   ]
  },
  {
   "cell_type": "code",
   "execution_count": 14,
   "metadata": {},
   "outputs": [
    {
     "output_type": "stream",
     "name": "stdout",
     "text": [
      "     id  outcome\n153   1        1\n54    2        0\n15    3        0\n40    5        1\n20   11        1\n(200, 2)\n"
     ]
    }
   ],
   "source": [
    "results = results.sort_values(by = \"id\")\n",
    "print(results.head())\n",
    "print(results.shape)"
   ]
  },
  {
   "cell_type": "code",
   "execution_count": 13,
   "metadata": {},
   "outputs": [
    {
     "output_type": "stream",
     "name": "stdout",
     "text": [
      "   id  bonus        date  color date_format  outcome\n0   1   0.39  07/31/2020  green    %m/%d/%Y        1\n1   2   0.28  11/04/2020    red    %m/%d/%Y        0\n2   3   0.27  2020-05-12    red    %Y-%m-%d        0\n3   5   0.35  2020-12-15  green    %Y-%m-%d        1\n4  11   0.09  01/17/2020   blue    %m/%d/%Y        1\n(200, 6)\n"
     ]
    }
   ],
   "source": [
    "join_df = pd.merge(predictors, results, on = \"id\", how = \"inner\")\n",
    "print(join_df.head())\n",
    "print(join_df.shape)"
   ]
  },
  {
   "cell_type": "code",
   "execution_count": 15,
   "metadata": {},
   "outputs": [
    {
     "output_type": "stream",
     "name": "stdout",
     "text": [
      "id               int64\nbonus          float64\ndate            object\ncolor           object\ndate_format     object\noutcome          int64\ndtype: object\n"
     ]
    }
   ],
   "source": [
    "print(join_df.dtypes)"
   ]
  },
  {
   "cell_type": "code",
   "execution_count": 18,
   "metadata": {},
   "outputs": [
    {
     "output_type": "stream",
     "name": "stdout",
     "text": [
      "2020-07-31 00:00:00\n"
     ]
    }
   ],
   "source": [
    "from datetime import datetime as dt\n",
    "datetime_object = dt.strptime('07/31/2020', '%m/%d/%Y')\n"
   ]
  },
  {
   "cell_type": "code",
   "execution_count": 20,
   "metadata": {},
   "outputs": [
    {
     "output_type": "stream",
     "name": "stdout",
     "text": [
      "2020-07-31 00:00:00\n"
     ]
    }
   ],
   "source": [
    "mini = join_df[\"date\"][0]\n",
    "mini_format = join_df[\"date_format\"][0]\n",
    "\n",
    "def date_convert(dat,form):\n",
    "    datetime_object = dt.strptime(str(dat), str(form))\n",
    "    return datetime_object\n",
    "\n",
    "object = date_convert(mini, mini_format)\n",
    "print(object)\n"
   ]
  },
  {
   "cell_type": "code",
   "execution_count": 23,
   "metadata": {},
   "outputs": [
    {
     "output_type": "stream",
     "name": "stdout",
     "text": [
      "[datetime.datetime(2020, 8, 24, 0, 0), datetime.datetime(2020, 9, 11, 0, 0), datetime.datetime(2020, 9, 19, 0, 0), datetime.datetime(2020, 12, 3, 0, 0)]\n195    08/24/2020\n196    09/11/2020\n197    19.09.2020\n198    03.12.2020\nName: date, dtype: object\n195    %m/%d/%Y\n196    %m/%d/%Y\n197    %d.%m.%Y\n198    %d.%m.%Y\nName: date_format, dtype: object\n"
     ]
    }
   ],
   "source": [
    "new_dates = []\n",
    "for dat, form in zip(join_df[\"date\"], join_df[\"date_format\"]):\n",
    "    object = date_convert(dat, form)\n",
    "    new_dates.append(object)\n",
    "\n",
    "print(new_dates[-5:-1])\n",
    "print(join_df[\"date\"][-5:-1])\n",
    "print(join_df[\"date_format\"][-5:-1])\n",
    "    \n"
   ]
  },
  {
   "cell_type": "code",
   "execution_count": 24,
   "metadata": {},
   "outputs": [
    {
     "output_type": "stream",
     "name": "stdout",
     "text": [
      "   id  bonus        date  color date_format  outcome   new_date\n0   1   0.39  07/31/2020  green    %m/%d/%Y        1 2020-07-31\n1   2   0.28  11/04/2020    red    %m/%d/%Y        0 2020-11-04\n2   3   0.27  2020-05-12    red    %Y-%m-%d        0 2020-05-12\n3   5   0.35  2020-12-15  green    %Y-%m-%d        1 2020-12-15\n4  11   0.09  01/17/2020   blue    %m/%d/%Y        1 2020-01-17\n"
     ]
    }
   ],
   "source": [
    "join_df[\"new_date\"] = new_dates\n",
    "print(join_df.head())"
   ]
  },
  {
   "cell_type": "code",
   "execution_count": 25,
   "metadata": {},
   "outputs": [
    {
     "output_type": "stream",
     "name": "stdout",
     "text": [
      "   id  bonus  color  outcome   new_date\n0   1   0.39  green        1 2020-07-31\n1   2   0.28    red        0 2020-11-04\n2   3   0.27    red        0 2020-05-12\n3   5   0.35  green        1 2020-12-15\n4  11   0.09   blue        1 2020-01-17\n"
     ]
    }
   ],
   "source": [
    "new_df = join_df.drop(columns = [\"date\", \"date_format\"])\n",
    "print(new_df.head())"
   ]
  },
  {
   "cell_type": "code",
   "execution_count": 31,
   "metadata": {},
   "outputs": [
    {
     "output_type": "stream",
     "name": "stdout",
     "text": [
      "['green' 'red' 'blue']\n"
     ]
    }
   ],
   "source": [
    "color_set = new_df[\"color\"].unique()\n",
    "new_df[\"color\"] = [s.strip() for s in new_df[\"color\"]]\n",
    "color_set2 = new_df[\"color\"].unique()\n",
    "print(color_set2)"
   ]
  },
  {
   "cell_type": "code",
   "execution_count": 34,
   "metadata": {},
   "outputs": [],
   "source": [
    "new_df[\"green\"] = [1 if s =='green' else 0 for s in new_df[\"color\"]]\n",
    "new_df[\"red\"] = [1 if s =='red' else 0 for s in new_df[\"color\"]]\n",
    "new_df[\"blue\"] = [1 if s =='blue' else 0 for s in new_df[\"color\"]] ### exclude intercept in linear model if all 3 used"
   ]
  },
  {
   "cell_type": "code",
   "execution_count": 35,
   "metadata": {},
   "outputs": [
    {
     "output_type": "stream",
     "name": "stdout",
     "text": [
      "   id  bonus  color  outcome   new_date  green  red  blue\n0   1   0.39  green        1 2020-07-31      1    0     0\n1   2   0.28    red        0 2020-11-04      0    1     0\n2   3   0.27    red        0 2020-05-12      0    1     0\n3   5   0.35  green        1 2020-12-15      1    0     0\n4  11   0.09   blue        1 2020-01-17      0    0     1\n"
     ]
    }
   ],
   "source": [
    "print(new_df.head())"
   ]
  },
  {
   "cell_type": "code",
   "execution_count": 37,
   "metadata": {},
   "outputs": [
    {
     "output_type": "stream",
     "name": "stdout",
     "text": [
      "color\nblue     0.649123\ngreen    0.330000\nred      0.534884\nName: outcome, dtype: float64\n"
     ]
    }
   ],
   "source": [
    "print(new_df.groupby(\"color\")[\"outcome\"].mean())\n",
    "\n"
   ]
  },
  {
   "cell_type": "code",
   "execution_count": 39,
   "metadata": {},
   "outputs": [
    {
     "output_type": "stream",
     "name": "stdout",
     "text": [
      "2020-01-04 00:00:00\n2020-12-29 00:00:00\n{datetime.datetime(2020, 11, 4, 0, 0), datetime.datetime(2020, 10, 10, 0, 0), datetime.datetime(2020, 10, 19, 0, 0), datetime.datetime(2020, 10, 26, 0, 0), datetime.datetime(2020, 3, 9, 0, 0), datetime.datetime(2020, 11, 28, 0, 0), datetime.datetime(2020, 1, 11, 0, 0), datetime.datetime(2020, 6, 25, 0, 0), datetime.datetime(2020, 7, 25, 0, 0), datetime.datetime(2020, 3, 21, 0, 0), datetime.datetime(2020, 9, 16, 0, 0), datetime.datetime(2020, 12, 27, 0, 0), datetime.datetime(2020, 7, 8, 0, 0), datetime.datetime(2020, 9, 24, 0, 0), datetime.datetime(2020, 3, 8, 0, 0), datetime.datetime(2020, 9, 11, 0, 0), datetime.datetime(2020, 2, 18, 0, 0), datetime.datetime(2020, 7, 2, 0, 0), datetime.datetime(2020, 11, 17, 0, 0), datetime.datetime(2020, 3, 16, 0, 0), datetime.datetime(2020, 6, 28, 0, 0), datetime.datetime(2020, 5, 9, 0, 0), datetime.datetime(2020, 3, 26, 0, 0), datetime.datetime(2020, 11, 21, 0, 0), datetime.datetime(2020, 9, 13, 0, 0), datetime.datetime(2020, 7, 7, 0, 0), datetime.datetime(2020, 2, 25, 0, 0), datetime.datetime(2020, 9, 28, 0, 0), datetime.datetime(2020, 1, 4, 0, 0), datetime.datetime(2020, 9, 22, 0, 0), datetime.datetime(2020, 10, 1, 0, 0), datetime.datetime(2020, 8, 29, 0, 0), datetime.datetime(2020, 6, 3, 0, 0), datetime.datetime(2020, 8, 25, 0, 0), datetime.datetime(2020, 5, 3, 0, 0), datetime.datetime(2020, 1, 17, 0, 0), datetime.datetime(2020, 9, 10, 0, 0), datetime.datetime(2020, 7, 29, 0, 0), datetime.datetime(2020, 7, 27, 0, 0), datetime.datetime(2020, 1, 10, 0, 0), datetime.datetime(2020, 7, 31, 0, 0), datetime.datetime(2020, 11, 20, 0, 0), datetime.datetime(2020, 8, 16, 0, 0), datetime.datetime(2020, 3, 15, 0, 0), datetime.datetime(2020, 8, 28, 0, 0), datetime.datetime(2020, 5, 23, 0, 0), datetime.datetime(2020, 5, 11, 0, 0), datetime.datetime(2020, 10, 4, 0, 0), datetime.datetime(2020, 11, 24, 0, 0), datetime.datetime(2020, 12, 16, 0, 0), datetime.datetime(2020, 6, 29, 0, 0), datetime.datetime(2020, 7, 21, 0, 0), datetime.datetime(2020, 5, 2, 0, 0), datetime.datetime(2020, 11, 5, 0, 0), datetime.datetime(2020, 12, 29, 0, 0), datetime.datetime(2020, 3, 10, 0, 0), datetime.datetime(2020, 11, 29, 0, 0), datetime.datetime(2020, 11, 13, 0, 0), datetime.datetime(2020, 6, 23, 0, 0), datetime.datetime(2020, 11, 23, 0, 0), datetime.datetime(2020, 5, 1, 0, 0), datetime.datetime(2020, 11, 2, 0, 0), datetime.datetime(2020, 7, 26, 0, 0), datetime.datetime(2020, 8, 6, 0, 0), datetime.datetime(2020, 1, 26, 0, 0), datetime.datetime(2020, 4, 5, 0, 0), datetime.datetime(2020, 10, 22, 0, 0), datetime.datetime(2020, 12, 25, 0, 0), datetime.datetime(2020, 3, 17, 0, 0), datetime.datetime(2020, 5, 17, 0, 0), datetime.datetime(2020, 2, 2, 0, 0), datetime.datetime(2020, 7, 16, 0, 0), datetime.datetime(2020, 8, 2, 0, 0), datetime.datetime(2020, 7, 4, 0, 0), datetime.datetime(2020, 10, 13, 0, 0), datetime.datetime(2020, 12, 6, 0, 0), datetime.datetime(2020, 9, 9, 0, 0), datetime.datetime(2020, 2, 17, 0, 0), datetime.datetime(2020, 7, 23, 0, 0), datetime.datetime(2020, 4, 17, 0, 0), datetime.datetime(2020, 5, 26, 0, 0), datetime.datetime(2020, 9, 5, 0, 0), datetime.datetime(2020, 8, 12, 0, 0), datetime.datetime(2020, 9, 18, 0, 0), datetime.datetime(2020, 11, 26, 0, 0), datetime.datetime(2020, 6, 13, 0, 0), datetime.datetime(2020, 10, 6, 0, 0), datetime.datetime(2020, 11, 12, 0, 0), datetime.datetime(2020, 4, 24, 0, 0), datetime.datetime(2020, 8, 24, 0, 0), datetime.datetime(2020, 8, 4, 0, 0), datetime.datetime(2020, 5, 16, 0, 0), datetime.datetime(2020, 9, 30, 0, 0), datetime.datetime(2020, 10, 31, 0, 0), datetime.datetime(2020, 6, 5, 0, 0), datetime.datetime(2020, 4, 7, 0, 0), datetime.datetime(2020, 5, 15, 0, 0), datetime.datetime(2020, 4, 22, 0, 0), datetime.datetime(2020, 4, 11, 0, 0), datetime.datetime(2020, 3, 7, 0, 0), datetime.datetime(2020, 9, 12, 0, 0), datetime.datetime(2020, 4, 1, 0, 0), datetime.datetime(2020, 1, 14, 0, 0), datetime.datetime(2020, 3, 22, 0, 0), datetime.datetime(2020, 12, 9, 0, 0), datetime.datetime(2020, 2, 8, 0, 0), datetime.datetime(2020, 2, 5, 0, 0), datetime.datetime(2020, 12, 21, 0, 0), datetime.datetime(2020, 9, 19, 0, 0), datetime.datetime(2020, 4, 27, 0, 0), datetime.datetime(2020, 12, 12, 0, 0), datetime.datetime(2020, 10, 5, 0, 0), datetime.datetime(2020, 8, 17, 0, 0), datetime.datetime(2020, 5, 8, 0, 0), datetime.datetime(2020, 9, 17, 0, 0), datetime.datetime(2020, 9, 7, 0, 0), datetime.datetime(2020, 6, 14, 0, 0), datetime.datetime(2020, 6, 17, 0, 0), datetime.datetime(2020, 12, 10, 0, 0), datetime.datetime(2020, 2, 20, 0, 0), datetime.datetime(2020, 9, 29, 0, 0), datetime.datetime(2020, 12, 3, 0, 0), datetime.datetime(2020, 8, 5, 0, 0), datetime.datetime(2020, 8, 21, 0, 0), datetime.datetime(2020, 10, 20, 0, 0), datetime.datetime(2020, 1, 20, 0, 0), datetime.datetime(2020, 6, 10, 0, 0), datetime.datetime(2020, 5, 24, 0, 0), datetime.datetime(2020, 6, 2, 0, 0), datetime.datetime(2020, 7, 1, 0, 0), datetime.datetime(2020, 8, 3, 0, 0), datetime.datetime(2020, 4, 25, 0, 0), datetime.datetime(2020, 12, 18, 0, 0), datetime.datetime(2020, 12, 15, 0, 0), datetime.datetime(2020, 2, 1, 0, 0), datetime.datetime(2020, 4, 23, 0, 0), datetime.datetime(2020, 2, 11, 0, 0), datetime.datetime(2020, 6, 12, 0, 0), datetime.datetime(2020, 3, 30, 0, 0), datetime.datetime(2020, 7, 17, 0, 0), datetime.datetime(2020, 5, 12, 0, 0), datetime.datetime(2020, 5, 6, 0, 0), datetime.datetime(2020, 4, 10, 0, 0), datetime.datetime(2020, 12, 19, 0, 0), datetime.datetime(2020, 12, 17, 0, 0), datetime.datetime(2020, 9, 23, 0, 0), datetime.datetime(2020, 1, 30, 0, 0)}\n"
     ]
    }
   ],
   "source": [
    "print(min(new_dates))\n",
    "print(max(new_dates))\n",
    "print(set(new_dates))"
   ]
  },
  {
   "cell_type": "code",
   "execution_count": 51,
   "metadata": {},
   "outputs": [
    {
     "output_type": "stream",
     "name": "stdout",
     "text": [
      "[0 1 1 0 1 1 0 0 1 0 0 0 1 0 0 1 0 1 1 0 1 0 0 0 0 0 1 1 1 1 1 0 0 0 1 1 1\n 0 1 1 0 1 0 0 1 0 1 0 0 1 0 1 0 1 1 1 1 0 0 0 0 1 0 0 1 1 0 0 1 1 1 0 0 0\n 0 0 1 1 1 0 1 1 1 1 0 1 1 1 1 0 0 1 0 0 0 0 0 0 1 1 1 0 1 0 0 0 0 0 0 0 0\n 0 1 0 1 1 1 1 0 0 0 1 1 1 0 1 0 1 0 0 1 0 0 0 1 0 1 0 0 1 1 1 1 1 1 0 0 1\n 0 0 1 1 1 1 1 1 0 0 1 1 1 1 0 0 1 0 0 1 1 1 1 0 0 1 1 1 1 0 1 0 0 0 0 0 0\n 1 1 0 0 1 0 0 1 1 0 1 1 0 1 1]\n[[0.6643114  0.3356886 ]\n [0.47573985 0.52426015]\n [0.4743013  0.5256987 ]\n [0.65914644 0.34085356]\n [0.35379375 0.64620625]\n [0.36307914 0.63692086]\n [0.67198541 0.32801459]\n [0.66173374 0.33826626]\n [0.3617462  0.6382538 ]\n [0.66173374 0.33826626]\n [0.67071264 0.32928736]\n [0.66687931 0.33312069]\n [0.47286319 0.52713681]\n [0.65784921 0.34215079]\n [0.6643114  0.3356886 ]\n [0.36575133 0.63424867]\n [0.66559659 0.33440341]\n [0.37787673 0.62212327]\n [0.47142552 0.52857448]\n [0.66943736 0.33056264]\n [0.36575133 0.63424867]\n [0.65914644 0.34085356]\n [0.66687931 0.33312069]\n [0.67198541 0.32801459]\n [0.67071264 0.32928736]\n [0.66173374 0.33826626]\n [0.46281029 0.53718971]\n [0.36575133 0.63424867]\n [0.4743013  0.5256987 ]\n [0.36575133 0.63424867]\n [0.47142552 0.52857448]\n [0.67578855 0.32421145]\n [0.66173374 0.33826626]\n [0.67578855 0.32421145]\n [0.36307914 0.63692086]\n [0.36307914 0.63692086]\n [0.47861812 0.52138188]\n [0.66173374 0.33826626]\n [0.46998832 0.53001168]\n [0.48293813 0.51706187]\n [0.6643114  0.3356886 ]\n [0.36441419 0.63558581]\n [0.65914644 0.34085356]\n [0.66687931 0.33312069]\n [0.48149781 0.51850219]\n [0.66302378 0.33697622]\n [0.36843181 0.63156819]\n [0.66044129 0.33955871]\n [0.66044129 0.33955871]\n [0.35643584 0.64356416]\n [0.66173374 0.33826626]\n [0.36041538 0.63958462]\n [0.66687931 0.33312069]\n [0.46281029 0.53718971]\n [0.47717879 0.52282121]\n [0.36307914 0.63692086]\n [0.36709054 0.63290946]\n [0.65784921 0.34215079]\n [0.6643114  0.3356886 ]\n [0.67325567 0.32674433]\n [0.66687931 0.33312069]\n [0.47142552 0.52857448]\n [0.67325567 0.32674433]\n [0.6539434  0.3460566 ]\n [0.46567982 0.53432018]\n [0.35776018 0.64223982]\n [0.6539434  0.3460566 ]\n [0.66302378 0.33697622]\n [0.36041538 0.63958462]\n [0.35776018 0.64223982]\n [0.34984733 0.65015267]\n [0.66943736 0.33056264]\n [0.66559659 0.33440341]\n [0.64606961 0.35393039]\n [0.67325567 0.32674433]\n [0.66687931 0.33312069]\n [0.37516835 0.62483165]\n [0.47286319 0.52713681]\n [0.36307914 0.63692086]\n [0.67198541 0.32801459]\n [0.47573985 0.52426015]\n [0.35776018 0.64223982]\n [0.47861812 0.52138188]\n [0.46711545 0.53288455]\n [0.66943736 0.33056264]\n [0.47142552 0.52857448]\n [0.3590867  0.6409133 ]\n [0.35776018 0.64223982]\n [0.45851067 0.54148933]\n [0.66302378 0.33697622]\n [0.66559659 0.33440341]\n [0.46424476 0.53575524]\n [0.66943736 0.33056264]\n [0.66559659 0.33440341]\n [0.66173374 0.33826626]\n [0.65914644 0.34085356]\n [0.66687931 0.33312069]\n [0.67198541 0.32801459]\n [0.46137644 0.53862356]\n [0.36977512 0.63022488]\n [0.46567982 0.53432018]\n [0.66559659 0.33440341]\n [0.46567982 0.53432018]\n [0.65914644 0.34085356]\n [0.66943736 0.33056264]\n [0.66687931 0.33312069]\n [0.67452338 0.32547662]\n [0.65784921 0.34215079]\n [0.67831118 0.32168882]\n [0.67071264 0.32928736]\n [0.66302378 0.33697622]\n [0.66943736 0.33056264]\n [0.46998832 0.53001168]\n [0.67071264 0.32928736]\n [0.35379375 0.64620625]\n [0.36843181 0.63156819]\n [0.46424476 0.53575524]\n [0.3617462  0.6382538 ]\n [0.65524768 0.34475232]\n [0.66943736 0.33056264]\n [0.67831118 0.32168882]\n [0.36041538 0.63958462]\n [0.34722772 0.65277228]\n [0.36709054 0.63290946]\n [0.66044129 0.33955871]\n [0.35643584 0.64356416]\n [0.67705115 0.32294885]\n [0.46567982 0.53432018]\n [0.66044129 0.33955871]\n [0.65132791 0.34867209]\n [0.36041538 0.63958462]\n [0.66173374 0.33826626]\n [0.66687931 0.33312069]\n [0.6643114  0.3356886 ]\n [0.37516835 0.62483165]\n [0.65654962 0.34345038]\n [0.35776018 0.64223982]\n [0.66302378 0.33697622]\n [0.66044129 0.33955871]\n [0.35511369 0.64488631]\n [0.36977512 0.63022488]\n [0.4800578  0.5199422 ]\n [0.3617462  0.6382538 ]\n [0.46281029 0.53718971]\n [0.3590867  0.6409133 ]\n [0.65914644 0.34085356]\n [0.66173374 0.33826626]\n [0.35379375 0.64620625]\n [0.67831118 0.32168882]\n [0.66302378 0.33697622]\n [0.4570788  0.5429212 ]\n [0.36709054 0.63290946]\n [0.3617462  0.6382538 ]\n [0.36441419 0.63558581]\n [0.4800578  0.5199422 ]\n [0.46711545 0.53288455]\n [0.67071264 0.32928736]\n [0.67578855 0.32421145]\n [0.48293813 0.51706187]\n [0.36977512 0.63022488]\n [0.47573985 0.52426015]\n [0.36041538 0.63958462]\n [0.67325567 0.32674433]\n [0.67071264 0.32928736]\n [0.45851067 0.54148933]\n [0.66815958 0.33184042]\n [0.6643114  0.3356886 ]\n [0.46998832 0.53001168]\n [0.35776018 0.64223982]\n [0.36307914 0.63692086]\n [0.36441419 0.63558581]\n [0.66815958 0.33184042]\n [0.66302378 0.33697622]\n [0.34984733 0.65015267]\n [0.48293813 0.51706187]\n [0.36977512 0.63022488]\n [0.4743013  0.5256987 ]\n [0.66044129 0.33955871]\n [0.46137644 0.53862356]\n [0.66943736 0.33056264]\n [0.65524768 0.34475232]\n [0.67325567 0.32674433]\n [0.65784921 0.34215079]\n [0.66815958 0.33184042]\n [0.66044129 0.33955871]\n [0.46998832 0.53001168]\n [0.37246777 0.62753223]\n [0.66687931 0.33312069]\n [0.67071264 0.32928736]\n [0.37381708 0.62618292]\n [0.64870327 0.35129673]\n [0.67071264 0.32928736]\n [0.36441419 0.63558581]\n [0.36041538 0.63958462]\n [0.67578855 0.32421145]\n [0.34853638 0.65146362]\n [0.48870201 0.51129799]\n [0.66302378 0.33697622]\n [0.36441419 0.63558581]\n [0.47286319 0.52713681]]\n"
     ]
    }
   ],
   "source": [
    "## Modelling\n",
    "from sklearn.linear_model import LogisticRegression\n",
    "\n",
    "train_df = new_df.drop(columns = [\"id\", \"new_date\",\"outcome\",\"color\"])\n",
    "columns = train_df.columns\n",
    "\n",
    "train_df = train_df.to_numpy()\n",
    "train_labels = new_df[\"outcome\"].to_numpy()\n",
    "\n",
    "clf = LogisticRegression(random_state = 0, fit_intercept = False).fit(train_df, train_labels)\n",
    "\n",
    "predictions = clf.predict(train_df)\n",
    "probabilities = clf.predict_proba(train_df)\n",
    "\n",
    "print(predictions)\n",
    "print(probabilities)"
   ]
  },
  {
   "cell_type": "code",
   "execution_count": 48,
   "metadata": {},
   "outputs": [],
   "source": [
    "score = clf.score(train_df, train_labels)"
   ]
  },
  {
   "cell_type": "code",
   "execution_count": 52,
   "metadata": {},
   "outputs": [
    {
     "output_type": "stream",
     "name": "stdout",
     "text": [
      "[[-0.57685782 -0.45759254  0.25863706  0.65432183]]\nIndex(['bonus', 'green', 'red', 'blue'], dtype='object')\n"
     ]
    }
   ],
   "source": [
    "print(clf.coef_)\n",
    "print(columns)"
   ]
  },
  {
   "cell_type": "code",
   "execution_count": null,
   "metadata": {},
   "outputs": [],
   "source": []
  }
 ]
}